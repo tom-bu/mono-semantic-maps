{
 "cells": [
  {
   "cell_type": "code",
   "execution_count": 5,
   "metadata": {},
   "outputs": [],
   "source": [
    "import numpy as np\n",
    "import os\n",
    "from datetime import datetime\n",
    "from argparse import ArgumentParser\n",
    "from tqdm import tqdm\n",
    "import scipy.ndimage\n",
    "\n",
    "import torch\n",
    "import torch.nn as nn\n",
    "from torch.optim import SGD\n",
    "from torch.optim.lr_scheduler import MultiStepLR\n",
    "from torch.utils.tensorboard import SummaryWriter\n",
    "\n",
    "from src.models.model_factory import build_model, build_criterion\n",
    "from src.data.data_factory import build_dataloaders\n",
    "from src.utils.configs import get_default_configuration, load_config\n",
    "from src.utils.confusion import BinaryConfusionMatrix\n",
    "from src.data.nuscenes.utils import NUSCENES_CLASS_NAMES\n",
    "from src.data.argoverse.utils import ARGOVERSE_CLASS_NAMES\n",
    "from src.utils.visualise import colorise\n",
    "import matplotlib.pyplot as plt\n",
    "\n",
    "import os\n",
    "from PIL import Image\n",
    "import torch\n",
    "from torch.utils.data import Dataset\n",
    "from torchvision.transforms.functional import to_tensor\n",
    "from argoverse.data_loading.argoverse_tracking_loader \\\n",
    "    import ArgoverseTrackingLoader\n",
    "from argoverse.utils.camera_stats import RING_CAMERA_LIST\n",
    "\n",
    "from src.data.argoverse.utils import IMAGE_WIDTH, IMAGE_HEIGHT, ARGOVERSE_CLASS_NAMES\n",
    "from src.data.utils import decode_binary_labels\n",
    "import cv2"
   ]
  },
  {
   "cell_type": "code",
   "execution_count": 10,
   "metadata": {},
   "outputs": [],
   "source": [
    "# Set up path to data\n",
    "ARGOVERSE_DATA_ROOT = './data/argo/argoverse-tracking/'\n",
    "split = 'val'\n",
    "split_data_dir = ARGOVERSE_DATA_ROOT + split\n",
    "data_root_split = os.path.join(ARGOVERSE_DATA_ROOT, split)\n",
    "# log_id = '10b8dee6-778f-33e4-a946-d842d2d9c3d7'\n",
    "log_id = '5ab2697b-6e3e-3454-a36a-aba2c6f27818'\n",
    "camera_name = 'ring_front_center'\n",
    "# cam_timestamp = '315968229010581848'\n",
    "\n",
    "# img_fpath = f'{split_data_dir}/{log_id}/{camera_name}/{camera_name}_{cam_timestamp}.jpg'\n",
    "LABEL_ROOT = 'data/argo/labels/'\n",
    "MASK_ROOT = './data/argo/masks_warped'\n",
    "mask_folder = os.path.join(MASK_ROOT, split, log_id, camera_name)"
   ]
  },
  {
   "cell_type": "code",
   "execution_count": 7,
   "metadata": {},
   "outputs": [],
   "source": [
    "def load_labels(split, log, camera, timestamp):\n",
    "    # Construct label path from example data\n",
    "                            \n",
    "    label_path = os.path.join(LABEL_ROOT, split, log, camera, \n",
    "                                f'{camera}_{timestamp}.png')\n",
    "    \n",
    "    if not os.path.exists(label_path):\n",
    "        return None, None\n",
    "    # Load encoded label image as a torch tensor\n",
    "    encoded_labels = to_tensor(Image.open(label_path)).long()\n",
    "\n",
    "    # Decode to binary labels\n",
    "    num_class = len(ARGOVERSE_CLASS_NAMES)\n",
    "    labels = decode_binary_labels(encoded_labels, num_class+ 1)\n",
    "    labels, mask = labels[:-1], ~labels[-1]\n",
    "\n",
    "    return labels, mask"
   ]
  },
  {
   "cell_type": "code",
   "execution_count": 12,
   "metadata": {},
   "outputs": [],
   "source": [
    "from matplotlib.cm import get_cmap\n",
    "\n",
    "def colorise(arr, cmap, vmin=None, vmax=None):\n",
    "\n",
    "    if isinstance(cmap, str):\n",
    "        cmap = get_cmap(cmap)\n",
    "    \n",
    "\n",
    "    vmin = float(arr.min()) if vmin is None else vmin\n",
    "    vmax = float(arr.max()) if vmax is None else vmax\n",
    "\n",
    "    arr = (arr - vmin) / (vmax - vmin)\n",
    "    return cmap(arr)[..., :3]"
   ]
  },
  {
   "cell_type": "code",
   "execution_count": 21,
   "metadata": {},
   "outputs": [
    {
     "data": {
      "text/plain": [
       "<matplotlib.image.AxesImage at 0x7f72e1b763a0>"
      ]
     },
     "execution_count": 21,
     "metadata": {},
     "output_type": "execute_result"
    },
    {
     "data": {
      "image/png": "[encoded data removed]",
      "text/plain": [
       "<Figure size 432x288 with 1 Axes>"
      ]
     },
     "metadata": {
      "needs_background": "light"
     },
     "output_type": "display_data"
    }
   ],
   "source": [
    "sem_mask_names = sorted(os.listdir(mask_folder))\n",
    "idx = 0\n",
    "sem_mask_name = sem_mask_names[idx]\n",
    "sem_mask = np.load(os.path.join(mask_folder, sem_mask_name))\n",
    "\n",
    "drivable_mask = sem_mask == 1\n",
    "vehicle_mask = sem_mask == 14\n",
    "pedestrain_mask = sem_mask == 12\n",
    "\n",
    "drivable_mask = colorise(drivable_mask, 'coolwarm', 0, 1) * 255\n",
    "vehicle_mask = colorise(vehicle_mask, 'coolwarm', 0, 1) * 255\n",
    "pedestrain_mask = colorise(pedestrain_mask, 'coolwarm', 0, 1) * 255\n",
    "\n",
    "cam_timestamp = sem_mask_name.split('.')[0].split('_')[-1]\n",
    "labels, mask = load_labels(split, log_id, camera_name, cam_timestamp)\n",
    "obstacles = mask == 0\n",
    "drivable_mask[obstacles] = 0\n",
    "vehicle_mask[obstacles] = 0\n",
    "pedestrain_mask[obstacles] = 0\n",
    "\n",
    "drivable_mask = drivable_mask.astype(np.uint8)\n",
    "cv2.imwrite(\"ipm_drivable_mask.jpg\", cv2.cvtColor(drivable_mask, cv2.COLOR_RGB2BGR))\n",
    "plt.figure()\n",
    "plt.imshow(drivable_mask)\n",
    "\n",
    "vehicle_mask = vehicle_mask.astype(np.uint8)\n",
    "cv2.imwrite(\"ipm_vehicle_mask.jpg\", cv2.cvtColor(vehicle_mask, cv2.COLOR_RGB2BGR))\n",
    "plt.figure()\n",
    "plt.imshow(vehicle_mask)\n",
    "\n",
    "pedestrain_mask = pedestrain_mask.astype(np.uint8)\n",
    "cv2.imwrite(\"ipm_pedestrain_mask.jpg\", cv2.cvtColor(pedestrain_mask, cv2.COLOR_RGB2BGR))\n",
    "plt.figure()\n",
    "plt.imshow(pedestrain_mask)"
   ]
  }
 ],
 "metadata": {
  "interpreter": {
   "hash": "a8c8f09fa6605b83dcd25836ee9f39006a6cc578b84d870791b078612e1dfc15"
  },
  "kernelspec": {
   "display_name": "Python 3.8.5 64-bit ('bev': conda)",
   "language": "python",
   "name": "python3"
  },
  "language_info": {
   "codemirror_mode": {
    "name": "ipython",
    "version": 3
   },
   "file_extension": ".py",
   "mimetype": "text/x-python",
   "name": "python",
   "nbconvert_exporter": "python",
   "pygments_lexer": "ipython3",
   "version": "3.8.5"
  },
  "orig_nbformat": 4
 },
 "nbformat": 4,
 "nbformat_minor": 2
}
